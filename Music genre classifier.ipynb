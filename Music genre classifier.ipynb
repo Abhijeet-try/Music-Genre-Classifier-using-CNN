{
 "cells": [
  {
   "cell_type": "markdown",
   "metadata": {},
   "source": [
    "## Importing Libraries"
   ]
  },
  {
   "cell_type": "code",
   "execution_count": 3,
   "metadata": {
    "execution": {
     "iopub.execute_input": "2022-03-29T18:01:18.991780Z",
     "iopub.status.busy": "2022-03-29T18:01:18.991386Z",
     "iopub.status.idle": "2022-03-29T18:01:18.998485Z",
     "shell.execute_reply": "2022-03-29T18:01:18.997620Z",
     "shell.execute_reply.started": "2022-03-29T18:01:18.991745Z"
    }
   },
   "outputs": [
    {
     "ename": "ModuleNotFoundError",
     "evalue": "No module named 'librosa'",
     "output_type": "error",
     "traceback": [
      "\u001b[1;31m---------------------------------------------------------------------------\u001b[0m",
      "\u001b[1;31mModuleNotFoundError\u001b[0m                       Traceback (most recent call last)",
      "\u001b[1;32m<ipython-input-3-46076ab50335>\u001b[0m in \u001b[0;36m<module>\u001b[1;34m\u001b[0m\n\u001b[0;32m      5\u001b[0m \u001b[1;32mimport\u001b[0m \u001b[0mos\u001b[0m\u001b[1;33m\u001b[0m\u001b[1;33m\u001b[0m\u001b[0m\n\u001b[0;32m      6\u001b[0m \u001b[1;32mimport\u001b[0m \u001b[0mpickle\u001b[0m\u001b[1;33m\u001b[0m\u001b[1;33m\u001b[0m\u001b[0m\n\u001b[1;32m----> 7\u001b[1;33m \u001b[1;32mimport\u001b[0m \u001b[0mlibrosa\u001b[0m\u001b[1;33m\u001b[0m\u001b[1;33m\u001b[0m\u001b[0m\n\u001b[0m\u001b[0;32m      8\u001b[0m \u001b[1;32mimport\u001b[0m \u001b[0mlibrosa\u001b[0m\u001b[1;33m.\u001b[0m\u001b[0mdisplay\u001b[0m\u001b[1;33m\u001b[0m\u001b[1;33m\u001b[0m\u001b[0m\n\u001b[0;32m      9\u001b[0m \u001b[1;32mfrom\u001b[0m \u001b[0mIPython\u001b[0m\u001b[1;33m.\u001b[0m\u001b[0mdisplay\u001b[0m \u001b[1;32mimport\u001b[0m \u001b[0mAudio\u001b[0m\u001b[1;33m\u001b[0m\u001b[1;33m\u001b[0m\u001b[0m\n",
      "\u001b[1;31mModuleNotFoundError\u001b[0m: No module named 'librosa'"
     ]
    }
   ],
   "source": [
    "import pandas as pd\n",
    "import numpy as np \n",
    "import matplotlib.pyplot as plt\n",
    "import scipy\n",
    "import os\n",
    "import pickle\n",
    "import librosa\n",
    "import librosa.display\n",
    "from IPython.display import Audio\n",
    "from sklearn.model_selection import train_test_split\n",
    "from sklearn.preprocessing import LabelEncoder\n",
    "import tensorflow as tf\n",
    "from tensorflow import keras"
   ]
  },
  {
   "cell_type": "code",
   "execution_count": 3,
   "metadata": {
    "execution": {
     "iopub.execute_input": "2022-03-29T18:01:26.523739Z",
     "iopub.status.busy": "2022-03-29T18:01:26.523223Z",
     "iopub.status.idle": "2022-03-29T18:01:27.034715Z",
     "shell.execute_reply": "2022-03-29T18:01:27.033477Z",
     "shell.execute_reply.started": "2022-03-29T18:01:26.523691Z"
    }
   },
   "outputs": [],
   "source": [
    "df = pd.read_csv(\"/kaggle/input/gtzan-dataset-music-genre-classification/Data/features_3_sec.csv\")\n",
    "df.head()"
   ]
  },
  {
   "cell_type": "code",
   "execution_count": 4,
   "metadata": {
    "execution": {
     "iopub.execute_input": "2022-03-29T18:01:37.389076Z",
     "iopub.status.busy": "2022-03-29T18:01:37.388758Z",
     "iopub.status.idle": "2022-03-29T18:01:37.398642Z",
     "shell.execute_reply": "2022-03-29T18:01:37.397022Z",
     "shell.execute_reply.started": "2022-03-29T18:01:37.389043Z"
    }
   },
   "outputs": [],
   "source": [
    "df.shape"
   ]
  },
  {
   "cell_type": "code",
   "execution_count": 5,
   "metadata": {
    "_kg_hide-input": false,
    "execution": {
     "iopub.execute_input": "2022-03-29T18:01:41.572150Z",
     "iopub.status.busy": "2022-03-29T18:01:41.571782Z",
     "iopub.status.idle": "2022-03-29T18:01:41.583182Z",
     "shell.execute_reply": "2022-03-29T18:01:41.582110Z",
     "shell.execute_reply.started": "2022-03-29T18:01:41.572112Z"
    }
   },
   "outputs": [],
   "source": [
    "df.dtypes"
   ]
  },
  {
   "cell_type": "code",
   "execution_count": 6,
   "metadata": {
    "execution": {
     "iopub.execute_input": "2022-03-29T18:01:49.147270Z",
     "iopub.status.busy": "2022-03-29T18:01:49.146937Z",
     "iopub.status.idle": "2022-03-29T18:01:49.159541Z",
     "shell.execute_reply": "2022-03-29T18:01:49.158592Z",
     "shell.execute_reply.started": "2022-03-29T18:01:49.147237Z"
    }
   },
   "outputs": [],
   "source": [
    "df=df.drop(labels=\"filename\",axis=1)"
   ]
  },
  {
   "cell_type": "code",
   "execution_count": 7,
   "metadata": {
    "execution": {
     "iopub.execute_input": "2022-03-29T18:02:06.223378Z",
     "iopub.status.busy": "2022-03-29T18:02:06.222444Z",
     "iopub.status.idle": "2022-03-29T18:02:06.253073Z",
     "shell.execute_reply": "2022-03-29T18:02:06.251508Z",
     "shell.execute_reply.started": "2022-03-29T18:02:06.223335Z"
    }
   },
   "outputs": [],
   "source": [
    "df.head()"
   ]
  },
  {
   "cell_type": "markdown",
   "metadata": {},
   "source": [
    "## Understanding the audio files"
   ]
  },
  {
   "cell_type": "code",
   "execution_count": 9,
   "metadata": {
    "execution": {
     "iopub.execute_input": "2022-03-29T18:02:12.110941Z",
     "iopub.status.busy": "2022-03-29T18:02:12.110081Z",
     "iopub.status.idle": "2022-03-29T18:02:12.126290Z",
     "shell.execute_reply": "2022-03-29T18:02:12.124806Z",
     "shell.execute_reply.started": "2022-03-29T18:02:12.110901Z"
    }
   },
   "outputs": [],
   "source": [
    "audio_recording=\"/kaggle/input/gtzan-dataset-music-genre-classification/Data/genres_original/country/country.00050.wav\"\n",
    "data,sr=librosa.load(audio_recording)\n",
    "print(type(data),type(sr))"
   ]
  },
  {
   "cell_type": "code",
   "execution_count": 10,
   "metadata": {
    "execution": {
     "iopub.execute_input": "2022-03-29T18:02:31.360486Z",
     "iopub.status.busy": "2022-03-29T18:02:31.359807Z",
     "iopub.status.idle": "2022-03-29T18:02:33.767557Z",
     "shell.execute_reply": "2022-03-29T18:02:33.766484Z",
     "shell.execute_reply.started": "2022-03-29T18:02:31.360422Z"
    }
   },
   "outputs": [],
   "source": [
    "librosa.load(audio_recording,sr=45600)"
   ]
  },
  {
   "cell_type": "markdown",
   "metadata": {},
   "source": [
    "With the help of IPython.display.Audio we can play audio in the notebook. It is a library used for playing the audio in the jupyterlab. "
   ]
  },
  {
   "cell_type": "code",
   "execution_count": 11,
   "metadata": {
    "execution": {
     "iopub.execute_input": "2022-03-29T18:02:41.550703Z",
     "iopub.status.busy": "2022-03-29T18:02:41.550380Z",
     "iopub.status.idle": "2022-03-29T18:02:41.622903Z",
     "shell.execute_reply": "2022-03-29T18:02:41.621708Z",
     "shell.execute_reply.started": "2022-03-29T18:02:41.550673Z"
    }
   },
   "outputs": [],
   "source": [
    "import IPython\n",
    "IPython.display.Audio(data,rate=sr)"
   ]
  },
  {
   "cell_type": "markdown",
   "metadata": {},
   "source": [
    "## Visualising audio files"
   ]
  },
  {
   "cell_type": "markdown",
   "metadata": {},
   "source": [
    "### Plotting Raw wave files"
   ]
  },
  {
   "cell_type": "code",
   "execution_count": 12,
   "metadata": {
    "execution": {
     "iopub.execute_input": "2022-03-29T18:02:53.472571Z",
     "iopub.status.busy": "2022-03-29T18:02:53.472222Z",
     "iopub.status.idle": "2022-03-29T18:02:53.894678Z",
     "shell.execute_reply": "2022-03-29T18:02:53.894032Z",
     "shell.execute_reply.started": "2022-03-29T18:02:53.472529Z"
    }
   },
   "outputs": [],
   "source": [
    "plt.figure(figsize=(12,4))\n",
    "librosa.display.waveplot(data,color=\"#2B4F72\")\n",
    "plt.show()"
   ]
  },
  {
   "cell_type": "markdown",
   "metadata": {},
   "source": [
    "Waveforms are visual representations of sound as time on the x-axis and amplitude on the y-axis. They are great for allowing us to quickly scan the audio data and visually compare and contrast which genres might be more similar than others."
   ]
  },
  {
   "cell_type": "markdown",
   "metadata": {},
   "source": [
    "### Spectrogram\n",
    "A spectrogram is a visual way of representing the signal loudness of a signal over time at various frequencies present in a particular waveform. Not only can one see whether there is more or less energy at, for example, 2 Hz vs 10 Hz, but one can also see how energy levels vary over time.\n",
    "Spectrograms are sometimes called sonographs, voiceprints, or voicegrams. When the data is represented in a 3D plot, they may be called waterfalls. In 2-dimensional arrays, the first axis is frequency while the second axis is time"
   ]
  },
  {
   "cell_type": "code",
   "execution_count": 13,
   "metadata": {
    "execution": {
     "iopub.execute_input": "2022-03-29T18:02:57.997625Z",
     "iopub.status.busy": "2022-03-29T18:02:57.997292Z",
     "iopub.status.idle": "2022-03-29T18:02:59.657508Z",
     "shell.execute_reply": "2022-03-29T18:02:59.656177Z",
     "shell.execute_reply.started": "2022-03-29T18:02:57.997591Z"
    }
   },
   "outputs": [],
   "source": [
    "stft=librosa.stft(data)\n",
    "stft_db=librosa.amplitude_to_db(abs(stft))\n",
    "plt.figure(figsize=(14,6))\n",
    "librosa.display.specshow(stft,sr=sr,x_axis='time',y_axis='hz')\n",
    "plt.colorbar()"
   ]
  },
  {
   "cell_type": "code",
   "execution_count": 14,
   "metadata": {
    "execution": {
     "iopub.execute_input": "2022-03-29T18:03:07.786543Z",
     "iopub.status.busy": "2022-03-29T18:03:07.786213Z",
     "iopub.status.idle": "2022-03-29T18:03:09.598927Z",
     "shell.execute_reply": "2022-03-29T18:03:09.597872Z",
     "shell.execute_reply.started": "2022-03-29T18:03:07.786510Z"
    }
   },
   "outputs": [],
   "source": [
    "stft=librosa.stft(data)\n",
    "stft_db=librosa.amplitude_to_db(abs(stft))\n",
    "plt.figure(figsize=(14,6))\n",
    "librosa.display.specshow(stft_db,sr=sr,x_axis='time',y_axis='hz')\n",
    "plt.colorbar()"
   ]
  },
  {
   "cell_type": "markdown",
   "metadata": {},
   "source": [
    "### Spectral Roll-Off\n",
    "Spectral Rolloff is the frequency below which a specified percentage of the total spectral energy, e.g. 85%, lies\n",
    "librosa.feature.spectral_rolloff computes the rolloff frequency for each frame in a signal."
   ]
  },
  {
   "cell_type": "code",
   "execution_count": 15,
   "metadata": {
    "execution": {
     "iopub.execute_input": "2022-03-29T18:03:14.202644Z",
     "iopub.status.busy": "2022-03-29T18:03:14.201942Z",
     "iopub.status.idle": "2022-03-29T18:03:14.915061Z",
     "shell.execute_reply": "2022-03-29T18:03:14.914044Z",
     "shell.execute_reply.started": "2022-03-29T18:03:14.202583Z"
    }
   },
   "outputs": [],
   "source": [
    "spectral_rolloff=librosa.feature.spectral_rolloff(data+0.01,sr=sr)[0]\n",
    "plt.figure(figsize=(14,6))\n",
    "librosa.display.waveplot(data,sr=sr,alpha=0.4,color=\"#2B4F72\")"
   ]
  },
  {
   "cell_type": "markdown",
   "metadata": {},
   "source": [
    "### Chroma Feature\n",
    "It is a powerful tool for analyzing music features whose pitches can be meaningfully categorized and whose tuning approximates to the equal-tempered scale. One main property of chroma features is that they capture harmonic and melodic characteristics of music while being robust to changes in timbre and instrumentation"
   ]
  },
  {
   "cell_type": "code",
   "execution_count": 16,
   "metadata": {
    "execution": {
     "iopub.execute_input": "2022-03-29T18:03:20.078030Z",
     "iopub.status.busy": "2022-03-29T18:03:20.077748Z",
     "iopub.status.idle": "2022-03-29T18:03:20.656052Z",
     "shell.execute_reply": "2022-03-29T18:03:20.655094Z",
     "shell.execute_reply.started": "2022-03-29T18:03:20.078003Z"
    }
   },
   "outputs": [],
   "source": [
    "import librosa.display as lplt\n",
    "chroma = librosa.feature.chroma_stft(data,sr=sr)\n",
    "plt.figure(figsize=(14,6))\n",
    "lplt.specshow(chroma,sr=sr,x_axis=\"time\",y_axis=\"chroma\",cmap=\"coolwarm\")\n",
    "plt.colorbar()\n",
    "plt.title(\"Chroma Features\")\n",
    "plt.show()"
   ]
  },
  {
   "cell_type": "markdown",
   "metadata": {},
   "source": [
    "### Zero Crossing Rate\n",
    "Zero crossing is said to occur if successive samples have different algebraic signs. The rate at which zero-crossings occur is a simple measure of the frequency content of a signal. Zero-crossing rate is a measure of the number of times in a given time interval/frame that the amplitude of the speech signals passes through a value of zero."
   ]
  },
  {
   "cell_type": "code",
   "execution_count": 17,
   "metadata": {
    "execution": {
     "iopub.execute_input": "2022-03-29T18:03:24.223071Z",
     "iopub.status.busy": "2022-03-29T18:03:24.222758Z",
     "iopub.status.idle": "2022-03-29T18:03:24.422400Z",
     "shell.execute_reply": "2022-03-29T18:03:24.421675Z",
     "shell.execute_reply.started": "2022-03-29T18:03:24.223039Z"
    }
   },
   "outputs": [],
   "source": [
    "start=1000\n",
    "end=1200\n",
    "plt.figure(figsize=(12,4))\n",
    "plt.plot(data[start:end],color=\"#2B4F72\")\n",
    "plt.grid()"
   ]
  },
  {
   "cell_type": "code",
   "execution_count": 18,
   "metadata": {
    "execution": {
     "iopub.execute_input": "2022-03-29T18:03:28.012775Z",
     "iopub.status.busy": "2022-03-29T18:03:28.011636Z",
     "iopub.status.idle": "2022-03-29T18:03:28.021188Z",
     "shell.execute_reply": "2022-03-29T18:03:28.019894Z",
     "shell.execute_reply.started": "2022-03-29T18:03:28.012697Z"
    }
   },
   "outputs": [],
   "source": [
    "zero_cross_rate=librosa.zero_crossings(data[start:end],pad=False)\n",
    "print(\"the numbert of zero_crossings is :\", sum(zero_cross_rate))"
   ]
  },
  {
   "cell_type": "markdown",
   "metadata": {},
   "source": [
    "## Feature Extraction\n",
    "Preprocessing of data is required before we finally train the data. We will try and focus on the last column that is ‘label’ and will encode it with the function LabelEncoder() of sklearn.preprocessing."
   ]
  },
  {
   "cell_type": "code",
   "execution_count": 19,
   "metadata": {
    "execution": {
     "iopub.execute_input": "2022-03-29T18:03:57.639290Z",
     "iopub.status.busy": "2022-03-29T18:03:57.639004Z",
     "iopub.status.idle": "2022-03-29T18:03:57.644772Z",
     "shell.execute_reply": "2022-03-29T18:03:57.644049Z",
     "shell.execute_reply.started": "2022-03-29T18:03:57.639260Z"
    }
   },
   "outputs": [],
   "source": [
    "class_list=df.iloc[:,-1]\n",
    "converter=LabelEncoder()"
   ]
  },
  {
   "cell_type": "code",
   "execution_count": 20,
   "metadata": {
    "execution": {
     "iopub.execute_input": "2022-03-29T18:04:32.784866Z",
     "iopub.status.busy": "2022-03-29T18:04:32.784556Z",
     "iopub.status.idle": "2022-03-29T18:04:32.797331Z",
     "shell.execute_reply": "2022-03-29T18:04:32.795767Z",
     "shell.execute_reply.started": "2022-03-29T18:04:32.784837Z"
    }
   },
   "outputs": [],
   "source": [
    "y=converter.fit_transform(class_list)\n",
    "y"
   ]
  },
  {
   "cell_type": "code",
   "execution_count": 21,
   "metadata": {
    "execution": {
     "iopub.execute_input": "2022-03-29T18:04:37.454538Z",
     "iopub.status.busy": "2022-03-29T18:04:37.454009Z",
     "iopub.status.idle": "2022-03-29T18:04:37.476946Z",
     "shell.execute_reply": "2022-03-29T18:04:37.475851Z",
     "shell.execute_reply.started": "2022-03-29T18:04:37.454505Z"
    }
   },
   "outputs": [],
   "source": [
    "print(df.iloc[:,:-1])"
   ]
  },
  {
   "cell_type": "markdown",
   "metadata": {},
   "source": [
    "## Scaling the features\n",
    "Standard scaler is used to standardize features by removing the mean and scaling to unit variance.\n",
    "The standard score of sample x is calculated as:\n",
    "z = (x - u) / s"
   ]
  },
  {
   "cell_type": "code",
   "execution_count": 22,
   "metadata": {
    "execution": {
     "iopub.execute_input": "2022-03-29T18:04:43.484535Z",
     "iopub.status.busy": "2022-03-29T18:04:43.484027Z",
     "iopub.status.idle": "2022-03-29T18:04:43.505879Z",
     "shell.execute_reply": "2022-03-29T18:04:43.504900Z",
     "shell.execute_reply.started": "2022-03-29T18:04:43.484484Z"
    }
   },
   "outputs": [],
   "source": [
    "from sklearn.preprocessing import StandardScaler\n",
    "fit=StandardScaler()\n",
    "X=fit.fit_transform(np.array(df.iloc[:,:-1],dtype=float))"
   ]
  },
  {
   "cell_type": "markdown",
   "metadata": {},
   "source": [
    "## Dividing Training and Testing Dataset"
   ]
  },
  {
   "cell_type": "code",
   "execution_count": 23,
   "metadata": {
    "execution": {
     "iopub.execute_input": "2022-03-29T18:04:49.311072Z",
     "iopub.status.busy": "2022-03-29T18:04:49.310746Z",
     "iopub.status.idle": "2022-03-29T18:04:49.322869Z",
     "shell.execute_reply": "2022-03-29T18:04:49.321942Z",
     "shell.execute_reply.started": "2022-03-29T18:04:49.311039Z"
    }
   },
   "outputs": [],
   "source": [
    "X_train,X_test,y_train,y_test=train_test_split(X,y,test_size=0.33)"
   ]
  },
  {
   "cell_type": "code",
   "execution_count": 24,
   "metadata": {
    "execution": {
     "iopub.execute_input": "2022-03-29T18:04:52.798322Z",
     "iopub.status.busy": "2022-03-29T18:04:52.797600Z",
     "iopub.status.idle": "2022-03-29T18:04:52.804816Z",
     "shell.execute_reply": "2022-03-29T18:04:52.803931Z",
     "shell.execute_reply.started": "2022-03-29T18:04:52.798277Z"
    }
   },
   "outputs": [],
   "source": [
    "len(y_test)"
   ]
  },
  {
   "cell_type": "code",
   "execution_count": 25,
   "metadata": {
    "execution": {
     "iopub.execute_input": "2022-03-29T18:04:54.901640Z",
     "iopub.status.busy": "2022-03-29T18:04:54.901319Z",
     "iopub.status.idle": "2022-03-29T18:04:54.908679Z",
     "shell.execute_reply": "2022-03-29T18:04:54.907656Z",
     "shell.execute_reply.started": "2022-03-29T18:04:54.901610Z"
    }
   },
   "outputs": [],
   "source": [
    "len(y_train)"
   ]
  },
  {
   "cell_type": "markdown",
   "metadata": {},
   "source": [
    "## Building the model\n"
   ]
  },
  {
   "cell_type": "code",
   "execution_count": 26,
   "metadata": {
    "execution": {
     "iopub.execute_input": "2022-03-29T18:06:57.835161Z",
     "iopub.status.busy": "2022-03-29T18:06:57.834822Z",
     "iopub.status.idle": "2022-03-29T18:06:57.839614Z",
     "shell.execute_reply": "2022-03-29T18:06:57.838745Z",
     "shell.execute_reply.started": "2022-03-29T18:06:57.835132Z"
    }
   },
   "outputs": [],
   "source": [
    "from tensorflow.keras.models import Sequential"
   ]
  },
  {
   "cell_type": "code",
   "execution_count": 27,
   "metadata": {
    "execution": {
     "iopub.execute_input": "2022-03-29T18:07:01.211846Z",
     "iopub.status.busy": "2022-03-29T18:07:01.211413Z",
     "iopub.status.idle": "2022-03-29T18:07:01.216216Z",
     "shell.execute_reply": "2022-03-29T18:07:01.215581Z",
     "shell.execute_reply.started": "2022-03-29T18:07:01.211815Z"
    }
   },
   "outputs": [],
   "source": [
    "def trainModel(model,epochs,optimizer):\n",
    "    batch_size=128\n",
    "    model.compile(optimizer=optimizer,loss='sparse_categorical_crossentropy',metrics='accuracy')\n",
    "    return model.fit(X_train,y_train,validation_data=(X_test,y_test),epochs=epochs,batch_size=batch_size)"
   ]
  },
  {
   "cell_type": "code",
   "execution_count": 29,
   "metadata": {
    "execution": {
     "iopub.execute_input": "2022-03-29T18:07:26.130228Z",
     "iopub.status.busy": "2022-03-29T18:07:26.129870Z",
     "iopub.status.idle": "2022-03-29T18:07:26.136350Z",
     "shell.execute_reply": "2022-03-29T18:07:26.135334Z",
     "shell.execute_reply.started": "2022-03-29T18:07:26.130194Z"
    }
   },
   "outputs": [],
   "source": [
    "def plotValidate(history):\n",
    "    print(\"Validation Accuracy\",max(history.history[\"val_accuracy\"]))\n",
    "    pd.DataFrame(history.history).plot(figsize=(12,6))\n",
    "    plt.show()"
   ]
  },
  {
   "cell_type": "code",
   "execution_count": 30,
   "metadata": {
    "execution": {
     "iopub.execute_input": "2022-03-29T18:07:29.331872Z",
     "iopub.status.busy": "2022-03-29T18:07:29.330818Z",
     "iopub.status.idle": "2022-03-29T18:07:29.336076Z",
     "shell.execute_reply": "2022-03-29T18:07:29.334950Z",
     "shell.execute_reply.started": "2022-03-29T18:07:29.331823Z"
    }
   },
   "outputs": [],
   "source": [
    "import tensorflow as tf"
   ]
  },
  {
   "cell_type": "code",
   "execution_count": 31,
   "metadata": {
    "execution": {
     "iopub.execute_input": "2022-03-29T18:07:34.447696Z",
     "iopub.status.busy": "2022-03-29T18:07:34.447249Z",
     "iopub.status.idle": "2022-03-29T18:12:38.708019Z",
     "shell.execute_reply": "2022-03-29T18:12:38.706737Z",
     "shell.execute_reply.started": "2022-03-29T18:07:34.447665Z"
    }
   },
   "outputs": [],
   "source": [
    "model=tf.keras.models.Sequential([\n",
    "    tf.keras.layers.Dense(512,activation='relu',input_shape=(X_train.shape[1],)),\n",
    "    tf.keras.layers.Dropout(0.2),\n",
    "    \n",
    "    tf.keras.layers.Dense(256,activation='relu'),\n",
    "    keras.layers.Dropout(0.2),\n",
    "    \n",
    "    tf.keras.layers.Dense(128,activation='relu'),\n",
    "    tf.keras.layers.Dropout(0.2),\n",
    "    \n",
    "    tf.keras.layers.Dense(64,activation='relu'),\n",
    "    tf.keras.layers.Dropout(0.2),\n",
    "    \n",
    "    tf.keras.layers.Dense(10,activation='softmax'),\n",
    "])\n",
    "\n",
    "print(model.summary())\n",
    "model_history=trainModel(model=model,epochs=600,optimizer='adam')"
   ]
  },
  {
   "cell_type": "markdown",
   "metadata": {},
   "source": [
    "## Model Evaluation"
   ]
  },
  {
   "cell_type": "code",
   "execution_count": 1,
   "metadata": {
    "execution": {
     "iopub.execute_input": "2022-03-29T19:23:49.586054Z",
     "iopub.status.busy": "2022-03-29T19:23:49.585610Z",
     "iopub.status.idle": "2022-03-29T19:23:49.679993Z",
     "shell.execute_reply": "2022-03-29T19:23:49.678945Z",
     "shell.execute_reply.started": "2022-03-29T19:23:49.585951Z"
    }
   },
   "outputs": [],
   "source": [
    "test_loss,test_acc=model.evaluate(X_test,y_test,batch_size=128)\n",
    "print(\"The test loss is \",test_loss)\n",
    "print(\"The best accuracy is: \",test_acc*100)"
   ]
  },
  {
   "cell_type": "markdown",
   "metadata": {},
   "source": [
    "For the CNN model, we had used the Adam optimizer for training the model. The epoch that was chosen for the training model is 600.\n",
    "All of the hidden layers are using the RELU activation function and the output layer uses the softmax function. The loss is calculated using the sparse_categorical_crossentropy function.\n",
    "Dropout is used to prevent overfitting.\n",
    "We chose the Adam optimizer because it gave us the best results after evaluating other optimizers.\n",
    "The model accuracy can be increased by further increasing the epochs but after a certain period, we may achieve a threshold, so the value should be determined accordingly."
   ]
  },
  {
   "cell_type": "markdown",
   "metadata": {},
   "source": [
    "The model accuracy can be increased by further increasing the epochs but after a certain period, we may achieve a threshold, so the value should be determined accordingly.\n",
    "The accuracy we achieved for the test set is 92.14 percent which is very decent.\n",
    "So we come to the conclusion that Neural Networks are very effective in machine learning models. Tensorflow is very useful in implementing Convolutional Neural Network (CNN) that helps in the classifying process."
   ]
  }
 ],
 "metadata": {
  "kernelspec": {
   "display_name": "Python 3",
   "language": "python",
   "name": "python3"
  },
  "language_info": {
   "codemirror_mode": {
    "name": "ipython",
    "version": 3
   },
   "file_extension": ".py",
   "mimetype": "text/x-python",
   "name": "python",
   "nbconvert_exporter": "python",
   "pygments_lexer": "ipython3",
   "version": "3.8.5"
  }
 },
 "nbformat": 4,
 "nbformat_minor": 4
}
